{
  "nbformat": 4,
  "nbformat_minor": 0,
  "metadata": {
    "colab": {
      "provenance": [],
      "authorship_tag": "ABX9TyODffX2pUW+nQJqJNcXcdrJ"
    },
    "kernelspec": {
      "name": "python3",
      "display_name": "Python 3"
    },
    "language_info": {
      "name": "python"
    }
  },
  "cells": [
    {
      "cell_type": "code",
      "execution_count": 104,
      "metadata": {
        "id": "a-Z6IYWPB6Ph",
        "colab": {
          "base_uri": "https://localhost:8080/",
          "height": 525
        },
        "outputId": "fecf2546-edc0-458a-956e-279d1fefa6e5"
      },
      "outputs": [
        {
          "output_type": "stream",
          "name": "stdout",
          "text": [
            "---Data Pengamatan---\n",
            "L \t t1 \t t2 \t t3\n",
            "0.755 \t 16.29 \t 17.18 \t 16.33\n",
            "0.65 \t 13.0 \t 13.37 \t 13.73\n",
            "0.56 \t 11.31 \t 10.67 \t 10.48\n",
            "0.475 \t 9.66 \t 9.71 \t 9.85\n",
            "\n",
            "---Koordinat sumbu x dan y---\n",
            "x \t y\n",
            "0.15 \t 3.56\n",
            "0.26 \t 5.54\n",
            "0.34 \t 6.41\n",
            "0.11 \t 1.98\n",
            "0.2 \t 2.85\n",
            "0.09 \t 0.87\n"
          ]
        },
        {
          "output_type": "display_data",
          "data": {
            "text/plain": [
              "<Figure size 432x288 with 1 Axes>"
            ],
            "image/png": "[encoded data removed]"
          },
          "metadata": {
            "needs_background": "light"
          }
        }
      ],
      "source": [
        "import numpy as np\n",
        "import matplotlib.pyplot as plt\n",
        "import scipy.optimize as sc\n",
        "\n",
        "# menghitung inersia pusat masssa\n",
        "# data diambil dari praktikum secara langsung\n",
        "m = 4.7823 \n",
        "L0 = np.array([0.801, 0.711, 0.633, 0.564])\n",
        "T0 = np.array([1.825, 1.736, 1.650, 1.584])\n",
        "\n",
        "ipm = (T0**2 * m * 9.8 * L0) / (4*np.pi**2) - m*L0**2 \n",
        "ipm = np.mean(ipm)\n",
        "ipm = round(ipm, 3)\n",
        "\n",
        "# menghitung periode untuk panjang tali yang lain\n",
        "g = 9.8\n",
        "dg = 1.0    # deviasi standar\n",
        "dt = 0.3    # deviasi standar waktu\n",
        "n = 5       # banyak ayunan\n",
        "\n",
        "L = np.array([0.755, 0.650, 0.560, 0.475])\n",
        "g = np.random.normal(g, dg, 4)\n",
        "T = (4*np.pi**2 * (ipm + m*L**2)) / (m*g*L)\n",
        "t = n * T\n",
        "\n",
        "# data pengamatan\n",
        "print(\"---Data Pengamatan---\") \n",
        "print(\"L \\t t1 \\t t2 \\t t3\")\n",
        "for i in range(len(t)):\n",
        "  x = np.random.normal(t[i], dt, 3)\n",
        "  x1 = round(x[0], 2)\n",
        "  x2 = round(x[1], 2)\n",
        "  x3 = round(x[2], 2)\n",
        "  print(L[i], \"\\t\", x1, \"\\t\", x2, \"\\t\", x3)\n",
        "\n",
        "def x(L2, L1):\n",
        "  return L2**2 - L1**2\n",
        "\n",
        "def y(L2, L1, T2, T1):\n",
        "  return T2**2 * L2 - T1**2 * L1\n",
        "\n",
        "xa = np.array([x(L[0], L[1]),\n",
        "      x(L[0], L[2]),\n",
        "      x(L[0], L[3]),\n",
        "      x(L[1], L[2]),\n",
        "      x(L[1], L[3]),\n",
        "      x(L[2], L[3]),\n",
        "])\n",
        "\n",
        "ya = np.array([y(L[0], L[1], T[0], T[1]),\n",
        "      y(L[0], L[2], T[0], T[2]),\n",
        "      y(L[0], L[3], T[0], T[3]),\n",
        "      y(L[1], L[2], T[1], T[2]),\n",
        "      y(L[1], L[3], T[1], T[3]),\n",
        "      y(L[2], L[3], T[2], T[3]),\n",
        "])\n",
        "\n",
        "print(\"\\n---Koordinat sumbu x dan y---\")\n",
        "print(\"x \\t y\")\n",
        "for i in range(len(xa)):\n",
        "  print(round(xa[i], 2), \"\\t\", round(ya[i], 2))\n",
        "\n",
        "# membuat visualisasi titik dan garis\n",
        "def f(x, a, b):\n",
        "  return a * x + b\n",
        "opt, cov =sc.curve_fit(f, xa, ya)\n",
        "a = opt[0]\n",
        "b = opt[1]\n",
        "yb = f(xa, a, b)\n",
        "\n",
        "plt.scatter(xa, ya, color=\"red\", marker=\"+\", s=100)\n",
        "plt.plot(xa, yb)\n",
        "plt.grid()"
      ]
    },
    {
      "cell_type": "code",
      "source": [],
      "metadata": {
        "id": "XkGAzIFO5xod"
      },
      "execution_count": null,
      "outputs": []
    }
  ]
}