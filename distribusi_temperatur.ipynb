{
  "nbformat": 4,
  "nbformat_minor": 0,
  "metadata": {
    "colab": {
      "name": "distribusi_temperatur.ipynb",
      "provenance": []
    },
    "kernelspec": {
      "name": "python3",
      "display_name": "Python 3"
    },
    "language_info": {
      "name": "python"
    }
  },
  "cells": [
    {
      "cell_type": "code",
      "execution_count": 159,
      "metadata": {
        "colab": {
          "base_uri": "https://localhost:8080/",
          "height": 284
        },
        "id": "Ebm850YSNTMC",
        "outputId": "f5ee6ff2-6ffb-4b91-f407-f6cf2ec30855"
      },
      "outputs": [
        {
          "output_type": "display_data",
          "data": {
            "text/plain": [
              "<Figure size 576x288 with 2 Axes>"
            ],
            "image/png": "[encoded data removed]"
          },
          "metadata": {
            "needs_background": "light"
          }
        }
      ],
      "source": [
        "import numpy as np\n",
        "import matplotlib.pyplot as plt\n",
        "import seaborn as sns\n",
        "\n",
        "# parameter awal\n",
        "m  = 10**(-6)\n",
        "dx = 1*m\n",
        "dy = 1*m\n",
        "t1 = 20*m\n",
        "t  = 60*m\n",
        "t2 = 30*m\n",
        "H  = t1 + t + t2\n",
        "l  = 20*m\n",
        "w  = 10*m\n",
        "L  = l + w + l\n",
        "nx = int(L/dx)\n",
        "ny = int(H/dy)\n",
        "x1 = int(l/dx)     \n",
        "x2 = int((l+w)/dx)\n",
        "x3 = int(nx)       \n",
        "y1 = int(t2/dy)    \n",
        "y2 = int((t2+t)/dy)\n",
        "y3 = int(ny)       \n",
        "T  = np.zeros((ny, nx))  # array kosong\n",
        "\n",
        "# kondisi suhu awal\n",
        "# sisi atas core\n",
        "for j in range(x1, x2):\n",
        "  i = y2\n",
        "  T[i, j] = 90\n",
        "\n",
        "# sisi atas kiri substrat\n",
        "for j in range(0, x1):\n",
        "  i = y1\n",
        "  T[i, j] = 90\n",
        "\n",
        "# sisi atas kanan substrat\n",
        "for j in range(x2, nx):\n",
        "  i = y1\n",
        "  T[i, j] = 90\n",
        "\n",
        "# sisi kanan core\n",
        "for i in range(y1, y2):\n",
        "  j = x2\n",
        "  T[i, j] = 90 \n",
        "\n",
        "# cladding bottom plate\n",
        "for j in range(0, nx):\n",
        "  i = 0\n",
        "  T[i, j]=0\n",
        "\n",
        "# cladding atas\n",
        "for i in range(y2, y3):\n",
        "  for j in range(0, x3):\n",
        "   T[i, j] = 90\n",
        "\n",
        "# cladding kiri\n",
        "for i in range(y1, y2):\n",
        "  for j in range(0, x1):\n",
        "    T[i, j] = 90\n",
        "\n",
        "# cladding kanan\n",
        "for i in range(y1, y2):\n",
        "   for j in range(x2, x3):\n",
        "     T[i, j] = 90\n",
        "\n",
        "# plotting \n",
        "plt.figure(figsize=(8, 4))\n",
        "yticklabels = np.arange(0, ny+10, 10)\n",
        "xticklabels = np.arange(0, nx+10, 10)\n",
        "yticks = np.arange(0, ny+10, 10)\n",
        "xticks = np.arange(0, nx+10, 10)\n",
        "ax = sns.heatmap(T, cmap=\"jet\", yticklabels=yticklabels, \n",
        "                 xticklabels=xticklabels)\n",
        "ax.invert_yaxis() \n",
        "ax.set_yticks(yticks)\n",
        "ax.set_xticks(xticks)\n",
        "ax.set_title(\"Kondisi awal\")\n",
        "plt.show()"
      ]
    },
    {
      "cell_type": "code",
      "source": [
        "# penerapan metode beda hingga\n",
        "def fdm(T, max_iter=1000):\n",
        "  \"\"\"\n",
        "  Menghitung turunan kedua dengan metode beda hingga (finite diference method).\n",
        "  Parameters\n",
        "  ----------\n",
        "  T : array 2 dimensi\n",
        "  max_iter : banyak iterasi yang diinginkan. Default = 1000  iterasi\n",
        "\n",
        "  \"\"\"\n",
        "  size = T.shape\n",
        "  x = size[1]\n",
        "  y = size[0]\n",
        "  for k in range(max_iter):\n",
        "    for i in range(1, y-1):\n",
        "      for j in range(1, x-1):\n",
        "        T[i, j] = 1/4 * (T[i+1, j] + T[i-1, j] + T[i, j+1] + T[i, j-1])\n",
        "  return T\n",
        "\n",
        "suhu = np.zeros((5, 5))\n",
        "suhu[:, 0]  = 20  # kiri\n",
        "suhu[:, -1] = 20  # kanan\n",
        "suhu[-1, :] = 20  # bawah\n",
        "suhu[0, :]  = 400 # atas \n",
        "penelitian = fdm(suhu)\n",
        "penelitian = np.round_(penelitian, 3)\n",
        "penelitian = penelitian[1:-1, 1:-1]\n",
        "penelitian"
      ],
      "metadata": {
        "colab": {
          "base_uri": "https://localhost:8080/"
        },
        "id": "AgKYIhzvoFtt",
        "outputId": "241881c1-cf30-405b-e692-329be5f8fe0e"
      },
      "execution_count": 160,
      "outputs": [
        {
          "output_type": "execute_result",
          "data": {
            "text/plain": [
              "array([[182.857, 220.179, 182.857],\n",
              "       [ 91.25 , 115.   ,  91.25 ],\n",
              "       [ 47.143,  57.321,  47.143]])"
            ]
          },
          "metadata": {},
          "execution_count": 160
        }
      ]
    },
    {
      "cell_type": "code",
      "source": [
        "# perhitungan dengan 10000 iterasi\n",
        "temperatur = fdm(T, max_iter=10000)\n",
        "\n",
        "# plotting\n",
        "plt.figure(figsize=(8, 4))\n",
        "yticklabels = np.arange(0, ny+10, 10)\n",
        "xticklabels = np.arange(0, nx+10, 10)\n",
        "yticks = np.arange(0, ny+10, 10)\n",
        "xticks = np.arange(0, nx+10, 10)\n",
        "ax = sns.heatmap(temp, cmap=\"jet\", yticklabels=yticklabels, \n",
        "                 xticklabels=xticklabels)\n",
        "ax.invert_yaxis() \n",
        "ax.set_yticks(yticks)\n",
        "ax.set_xticks(xticks)\n",
        "ax.set_title(\"Kondisi setelah dipengaruhi suhu\")\n",
        "plt.show()"
      ],
      "metadata": {
        "colab": {
          "base_uri": "https://localhost:8080/",
          "height": 284
        },
        "id": "-sGl-Z4HMULr",
        "outputId": "00b79f9a-a549-4fc7-e897-a78a594dceaa"
      },
      "execution_count": 161,
      "outputs": [
        {
          "output_type": "display_data",
          "data": {
            "text/plain": [
              "<Figure size 576x288 with 2 Axes>"
            ],
            "image/png": "[encoded data removed]"
          },
          "metadata": {
            "needs_background": "light"
          }
        }
      ]
    }
  ]
}