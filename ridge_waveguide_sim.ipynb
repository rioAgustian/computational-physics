{
  "cells": [
    {
      "cell_type": "markdown",
      "source": [
        "# **Ridge Waveguide Simulation**"
      ],
      "metadata": {
        "id": "oOw9d_T2ZiOQ"
      }
    },
    {
      "cell_type": "markdown",
      "source": [
        "### **Kondisi Awal Sebelum Dipengaruhi Suhu**"
      ],
      "metadata": {
        "id": "t93xeJrmZssR"
      }
    },
    {
      "cell_type": "code",
      "execution_count": null,
      "metadata": {
        "colab": {
          "base_uri": "https://localhost:8080/",
          "height": 273
        },
        "id": "bF1QthR3d00a",
        "outputId": "174d0a63-7129-4ca1-c7fd-0463b8accf37"
      },
      "outputs": [
        {
          "output_type": "display_data",
          "data": {
            "text/plain": [
              "<Figure size 432x288 with 2 Axes>"
            ],
            "image/png": "[encoded data removed]"
          },
          "metadata": {
            "needs_background": "light"
          }
        }
      ],
      "source": [
        "import numpy as np\n",
        "import matplotlib.pyplot as plt\n",
        "import seaborn as sns\n",
        "\n",
        "# parameter awal\n",
        "m  = 10**(-6)\n",
        "nc = 1.000293\n",
        "ni = 2.65\n",
        "ns = 1.489\n",
        "dx = 1*m\n",
        "dy = 1*m\n",
        "t1 = 20*m\n",
        "t  = 30*m # ini d\n",
        "t2 = 30*m\n",
        "H  = t1 + t + t2\n",
        "l  = 20*m\n",
        "w  = 30*m\n",
        "L  = l + w + l\n",
        "kl = 0.17 \n",
        "C  = 1.3\n",
        "tocf = 1.7e-4\n",
        "nx = int(L/dx)\n",
        "ny = int(H/dy)\n",
        "x1 = int(l/dx)     \n",
        "x2 = int((l+w)/dx)\n",
        "x3 = int(nx)       \n",
        "y1 = int(t2/dy)    \n",
        "y2 = int((t2+t)/dy)\n",
        "y3 = int(ny)\n",
        "a = kl/2\n",
        "b = dy/dx\n",
        "c = dx/dy\n",
        "k = kl*b     \n",
        "T  = np.zeros((ny, nx))  # array kosong\n",
        "n  = np.zeros((ny, nx))\n",
        "dn = np.zeros((ny, nx))\n",
        "T0 = 100\n",
        "\n",
        "# kondisi suhu awal\n",
        "# sisi atas core\n",
        "for j in range(x1, x2):\n",
        "  i = y2\n",
        "  T[i, j] = T0\n",
        "\n",
        "# sisi atas kiri substrat\n",
        "for j in range(x1):\n",
        "  i = y1\n",
        "  T[i, j] = T0\n",
        "\n",
        "# sisi atas kanan substrat\n",
        "for j in range(x2, nx):\n",
        "  i = y1\n",
        "  T[i, j] = T0\n",
        "\n",
        "# sisi kanan core\n",
        "for i in range(y1, y2):\n",
        "  j = x2\n",
        "  T[i, j] = T0 \n",
        "\n",
        "# cladding bottom plate\n",
        "for j in range(0, nx):\n",
        "  i = 0\n",
        "  T[i, j] = 0\n",
        "\n",
        "# cladding atas\n",
        "for i in range(y2, y3):\n",
        "  for j in range(x3):\n",
        "   T[i, j] = T0\n",
        "\n",
        "# cladding kiri\n",
        "for i in range(y1, y2):\n",
        "  for j in range(x1):\n",
        "    T[i, j] = T0\n",
        "\n",
        "# cladding kanan\n",
        "for i in range(y1, y2):\n",
        "   for j in range(x2, x3):\n",
        "     T[i, j] = T0\n",
        "\n",
        "for i in range(y1):\n",
        "  T[i, 0] = T0\n",
        "  T[i, -1] = T0 \n",
        "\n",
        "# plotting\n",
        "yticklabels = np.arange(0, ny+10, 10)\n",
        "xticklabels = np.arange(0, nx+10, 10)\n",
        "yticks = np.arange(0, ny+10, 10)\n",
        "xticks = np.arange(0, nx+10, 10)\n",
        "ax = sns.heatmap(T, cmap=\"jet\", yticklabels=yticklabels, \n",
        "                 xticklabels=xticklabels)\n",
        "ax.invert_yaxis() \n",
        "ax.set_yticks(yticks)\n",
        "ax.set_xticks(xticks)\n",
        "plt.show()"
      ]
    },
    {
      "cell_type": "markdown",
      "source": [
        "### **Aplikasi Metode Beda Hingga**"
      ],
      "metadata": {
        "id": "C34Xvim7Z3en"
      }
    },
    {
      "cell_type": "code",
      "execution_count": null,
      "metadata": {
        "id": "JnBnYKudlXTe"
      },
      "outputs": [],
      "source": [
        "# penerapan metode beda hingga\n",
        "def fdm(u, max_iter=1000):\n",
        "  \"\"\"\n",
        "  Menghitung turunan kedua dengan metode beda hingga (finite diference method).\n",
        "  Parameters\n",
        "  ----------\n",
        "  T : array 2 dimensi\n",
        "  max_iter : banyak iterasi yang diinginkan. Default = 1000  iterasi\n",
        "\n",
        "  \"\"\"\n",
        "  size = u.shape\n",
        "  x = size[1]\n",
        "  y = size[0]\n",
        "  for k in range(max_iter):\n",
        "    for i in range(1, y-1):\n",
        "      for j in range(1, x-1):\n",
        "        u[i, j] = 1/4 * (u[i+1, j] + u[i-1, j] + u[i, j+1] + u[i, j-1])\n",
        "  return u"
      ]
    },
    {
      "cell_type": "markdown",
      "source": [
        "### **Kondisi Setelah Dipengaruhi Suhu**"
      ],
      "metadata": {
        "id": "QmoiDl5CaBa5"
      }
    },
    {
      "cell_type": "code",
      "execution_count": null,
      "metadata": {
        "colab": {
          "base_uri": "https://localhost:8080/",
          "height": 273
        },
        "id": "e2A1IUeDljbQ",
        "outputId": "1f74e646-0ef5-43d7-9be9-77bb83dea9d0"
      },
      "outputs": [
        {
          "output_type": "display_data",
          "data": {
            "text/plain": [
              "<Figure size 432x288 with 2 Axes>"
            ],
            "image/png": "[encoded data removed]"
          },
          "metadata": {
            "needs_background": "light"
          }
        }
      ],
      "source": [
        "# perhitungan dengan 10000 iterasi\n",
        "T = fdm(T, max_iter = 10000)\n",
        "\n",
        "# plotting\n",
        "yticklabels = np.arange(0, ny+10, 10)\n",
        "xticklabels = np.arange(0, nx+10, 10)\n",
        "yticks = np.arange(0, ny+10, 10)\n",
        "xticks = np.arange(0, nx+10, 10)\n",
        "ax = sns.heatmap(T, cmap=\"jet\", yticklabels=yticklabels, \n",
        "                 xticklabels=xticklabels)\n",
        "ax.invert_yaxis() \n",
        "ax.set_yticks(yticks)\n",
        "ax.set_xticks(xticks)\n",
        "plt.show()"
      ]
    },
    {
      "cell_type": "markdown",
      "source": [
        "### **Distribusi Suhu pada Garis Tengah Waveguide**\n",
        "\n"
      ],
      "metadata": {
        "id": "9Vb_z1vXa7IV"
      }
    },
    {
      "cell_type": "code",
      "execution_count": null,
      "metadata": {
        "colab": {
          "base_uri": "https://localhost:8080/",
          "height": 265
        },
        "id": "qpLa4K2KmMXK",
        "outputId": "6d0845ab-b27a-46a3-f141-09536ac72208"
      },
      "outputs": [
        {
          "output_type": "display_data",
          "data": {
            "text/plain": [
              "<Figure size 432x288 with 1 Axes>"
            ],
            "image/png": "[encoded data removed]"
          },
          "metadata": {
            "needs_background": "light"
          }
        }
      ],
      "source": [
        "tengah = int(nx/2)\n",
        "for i in range(ny):\n",
        "  if i <= y1:\n",
        "    plt.scatter(i, T[i, tengah], marker=\"+\", s=100, color=\"b\")\n",
        "  else:\n",
        "    plt.scatter(i, T[i, tengah], color=\"r\")\n",
        "plt.show()"
      ]
    },
    {
      "cell_type": "markdown",
      "source": [
        "### **Simulasi Distribusi Indeks Bias**"
      ],
      "metadata": {
        "id": "8qvbRw3WajFB"
      }
    },
    {
      "cell_type": "code",
      "execution_count": null,
      "metadata": {
        "colab": {
          "base_uri": "https://localhost:8080/",
          "height": 273
        },
        "id": "v2a5M2TWnabB",
        "outputId": "cb1c5311-99a5-4fc1-d310-c8fb77f9920d"
      },
      "outputs": [
        {
          "output_type": "display_data",
          "data": {
            "text/plain": [
              "<Figure size 432x288 with 2 Axes>"
            ],
            "image/png": "[encoded data removed]"
          },
          "metadata": {
            "needs_background": "light"
          }
        }
      ],
      "source": [
        "for i in range(ny):\n",
        "  for j in range(nx):\n",
        "    dn[i, j] = T[i, j] * tocf \n",
        "\n",
        "# distribusi n\n",
        "# n substrat\n",
        "for j in range(x3):\n",
        "   for i in range(y1):\n",
        "     n[i, j] = ns + dn[i, j]\n",
        "\n",
        "# n cladding kiri\n",
        "for j in range(x1):\n",
        "   for i in range(y1, y2):\n",
        "      n[i, j] = nc + dn[i,j]\n",
        "\n",
        "# n core \n",
        "for j in range(x1, x2):\n",
        "   for i in range(y1, y2):\n",
        "      n[i, j] = ni + dn[i, j]\n",
        "\n",
        "# n cladding atas\n",
        "for j in range(nx):\n",
        "  for i in range(y2, y3):\n",
        "     n[i, j] = nc + dn[i, j]\n",
        "\n",
        "# n cladding kanan\n",
        "for j in range(x2, nx):\n",
        "   for i in range(y1, y2):\n",
        "      n[i, j] = nc + dn[i, j]\n",
        "\n",
        "# plotting\n",
        "yticklabels = np.arange(0, ny+10, 10)\n",
        "xticklabels = np.arange(0, nx+10, 10)\n",
        "yticks = np.arange(0, ny+10, 10)\n",
        "xticks = np.arange(0, nx+10, 10)\n",
        "ax = sns.heatmap(n, cmap=\"jet\", yticklabels=yticklabels, \n",
        "                 xticklabels=xticklabels)\n",
        "ax.invert_yaxis() \n",
        "ax.set_yticks(yticks)\n",
        "ax.set_xticks(xticks)\n",
        "plt.show()"
      ]
    },
    {
      "cell_type": "markdown",
      "source": [
        "### **Distribusi n pada Garis Tengah Waveguide**"
      ],
      "metadata": {
        "id": "Jih8fk4RdD0P"
      }
    },
    {
      "cell_type": "markdown",
      "source": [
        "### **Bagian inti**"
      ],
      "metadata": {
        "id": "bKJyFMQ8dNis"
      }
    },
    {
      "cell_type": "code",
      "source": [
        "plt.scatter(range(y1, y2), n[y1:y2, tengah])\n",
        "plt.show()"
      ],
      "metadata": {
        "colab": {
          "base_uri": "https://localhost:8080/",
          "height": 265
        },
        "id": "0n-qBZDwxdFh",
        "outputId": "572535e6-e228-465f-aea6-441fb20f26cb"
      },
      "execution_count": null,
      "outputs": [
        {
          "output_type": "display_data",
          "data": {
            "text/plain": [
              "<Figure size 432x288 with 1 Axes>"
            ],
            "image/png": "[encoded data removed]"
          },
          "metadata": {
            "needs_background": "light"
          }
        }
      ]
    },
    {
      "cell_type": "markdown",
      "source": [
        "### **Bagian substrat**"
      ],
      "metadata": {
        "id": "1o3gXIoQdZtl"
      }
    },
    {
      "cell_type": "code",
      "source": [
        "tengah = int(nx/2)\n",
        "plt.scatter(range(y1), n[:y1, tengah])\n",
        "plt.show()"
      ],
      "metadata": {
        "colab": {
          "base_uri": "https://localhost:8080/",
          "height": 265
        },
        "id": "vU7cjXQtw2Gh",
        "outputId": "dd272986-dd4d-49d9-cec8-5c89ef313279"
      },
      "execution_count": null,
      "outputs": [
        {
          "output_type": "display_data",
          "data": {
            "text/plain": [
              "<Figure size 432x288 with 1 Axes>"
            ],
            "image/png": "[encoded data removed]"
          },
          "metadata": {
            "needs_background": "light"
          }
        }
      ]
    },
    {
      "cell_type": "markdown",
      "source": [
        "### **Simulasi Distribusi Medan Listrik**"
      ],
      "metadata": {
        "id": "sBKH-xhJduNq"
      }
    },
    {
      "cell_type": "code",
      "execution_count": null,
      "metadata": {
        "id": "6DqA33-gtmbv",
        "colab": {
          "base_uri": "https://localhost:8080/",
          "height": 273
        },
        "outputId": "58d337fa-ea63-44c9-ca67-07c04baf2580"
      },
      "outputs": [
        {
          "output_type": "display_data",
          "data": {
            "text/plain": [
              "<Figure size 432x288 with 2 Axes>"
            ],
            "image/png": "[encoded data removed]"
          },
          "metadata": {
            "needs_background": "light"
          }
        }
      ],
      "source": [
        "lamda = 1.55*m\n",
        "pi = 3.14\n",
        "ko = (2*pi)/lamda\n",
        "beta = ko*ni\n",
        "beta1 = 0\n",
        "selisih = abs(beta-beta1)\n",
        "E = np.zeros((ny, nx))\n",
        "E[2:ny-1, 2:nx-1] = 1\n",
        "inti = 0\n",
        "\n",
        "while selisih > 1:\n",
        "  num = 0\n",
        "  den = 0\n",
        "  for i in range(2, ny-1):\n",
        "    for j in range(2, nx-1):\n",
        "      atas = E[i-1, j] + E[i+1, j] + (E[i, j-1] + E[i, j+1]) * (dx**2)/(dy**2)\n",
        "      bawah1 = 2 * (1 + (dx**2)/(dy**2))\n",
        "      bawah2 = dx**2 * ((ko**2 * n[i, j]**2)-(beta**2))\n",
        "      bawah = bawah1 - bawah2\n",
        "      E[i, j] = atas/bawah\n",
        "  for i in range(2, ny-1):\n",
        "    for j in range(2, nx-1):\n",
        "      ex = (E[i+1, j] + E[i-1, j] - 2*E[i, j]) / dx**2\n",
        "      ey = (E[i, j+1] + E[i, j-1] - 2*E[i, j]) / dy**2\n",
        "      exy = (ko**2) * (n[i, j]**2) * (E[i, j]**2)\n",
        "      num = num + (E[i, j] * (ex+ey) + exy)\n",
        "      den = den + E[i, j]**2\n",
        "      beta1 = np.sqrt(num/den)\n",
        "  selisih = abs(beta1-beta)\n",
        "  beta = beta1\n",
        "  inti += 1\n",
        "\n",
        "# plotting\n",
        "yticklabels = np.arange(0, ny+10, 10)\n",
        "xticklabels = np.arange(0, nx+10, 10)\n",
        "yticks = np.arange(0, ny+10, 10)\n",
        "xticks = np.arange(0, nx+10, 10)\n",
        "ax = sns.heatmap(E, cmap=\"jet\", yticklabels=yticklabels, \n",
        "                 xticklabels=xticklabels)\n",
        "ax.invert_yaxis() \n",
        "ax.set_yticks(yticks)\n",
        "ax.set_xticks(xticks)\n",
        "plt.show()"
      ]
    }
  ],
  "metadata": {
    "colab": {
      "collapsed_sections": [],
      "name": "ridge_waveguide_sim.ipynb",
      "provenance": []
    },
    "kernelspec": {
      "display_name": "Python 3",
      "name": "python3"
    },
    "language_info": {
      "name": "python"
    }
  },
  "nbformat": 4,
  "nbformat_minor": 0
}