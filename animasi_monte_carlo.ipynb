{
  "nbformat": 4,
  "nbformat_minor": 0,
  "metadata": {
    "colab": {
      "provenance": [],
      "authorship_tag": "ABX9TyO99n4yYloFWFx1CSz9DoB6",
      "include_colab_link": true
    },
    "kernelspec": {
      "name": "python3",
      "display_name": "Python 3"
    },
    "language_info": {
      "name": "python"
    }
  },
  "cells": [
    {
      "cell_type": "markdown",
      "metadata": {
        "id": "view-in-github",
        "colab_type": "text"
      },
      "source": [
        "<a href=\"https://colab.research.google.com/github/rioAgustian/computational_physics/blob/main/animasi_monte_carlo.ipynb\" target=\"_parent\"><img src=\"https://colab.research.google.com/assets/colab-badge.svg\" alt=\"Open In Colab\"/></a>"
      ]
    },
    {
      "cell_type": "markdown",
      "source": [
        "# **Animasi Simulasi Monte Carlo untuk Mengestimasi Nilai $\\pi$**\n",
        "\n",
        "**Rio Agustian Gilang Fernando, Fisika**\n",
        "\n",
        "**FMIPA Universitas Negeri Semarang**\n",
        "\n",
        "**2024**"
      ],
      "metadata": {
        "id": "qKdMl2-H55Y4"
      }
    },
    {
      "cell_type": "markdown",
      "source": [
        "## **Dasar Teori**\n",
        "\n",
        "\\begin{align}\n",
        "        \\text{Luas lingkaran} = \\pi r^2\n",
        "    \\end{align}\n",
        "\n",
        "Bila $r = 1$ maka\n",
        "\n",
        "\\begin{align}\n",
        "        \\text{Luas lingkaran} = \\pi\n",
        "    \\end{align}\n",
        "\n",
        "Apabila terdapat titik-titik yang tersebar secara acak pada persegi yang memiliki luasan yang dibatasi oleh x1=0, x2=2, y1=0, dan y2=2, maka luasan lingkaran yang memiliki titik pusat (1,1) dan jari-jari 1 satuan adalah\n",
        "\n",
        "\\begin{align}\n",
        "        \\text{Luas lingkaran} &= \\frac{\\text{banyak titik di dalam lingkaran}}{\\text{banyak titik total}} \\times \\text{luas persegi} \\\\\n",
        "        \\pi &= \\frac{\\text{banyak titik di dalam lingkaran}}{\\text{banyak titik total}} \\times 4\n",
        "    \\end{align}\n",
        "\n",
        "Untuk mengecek apakah suatu titik berada di dalam lingkaran atau di luar lingkaran dapat digunakan algoritma sederhana berikut\n",
        "\n",
        "\n",
        "\n",
        "```\n",
        "x = bilangan acak antara 0 dan 2\n",
        "y = bilangan acak antara 0 dan 2\n",
        "k = (x-1)^2 + (y-1)^2\n",
        "\n",
        "Jika k <= 1:\n",
        "  k adalah titik yang berada di dalam lingkaran\n",
        "Jika k > 1:\n",
        "  k adalah titik yang berada di luar lingkaran\n",
        "```\n",
        "\n"
      ],
      "metadata": {
        "id": "jONN3a8F7eYs"
      }
    },
    {
      "cell_type": "code",
      "execution_count": 12,
      "metadata": {
        "colab": {
          "base_uri": "https://localhost:8080/",
          "height": 385
        },
        "id": "TN_nvPGg0uaJ",
        "outputId": "4eee7008-a792-4e8a-990f-4c54a988b26f"
      },
      "outputs": [
        {
          "output_type": "execute_result",
          "data": {
            "text/plain": [
              "[<matplotlib.lines.Line2D at 0x78ccd9767670>]"
            ]
          },
          "metadata": {},
          "execution_count": 12
        },
        {
          "output_type": "display_data",
          "data": {
            "text/plain": [
              "<Figure size 800x400 with 2 Axes>"
            ],
            "image/png": "[encoded data removed]"
          },
          "metadata": {}
        }
      ],
      "source": [
        "import numpy as np\n",
        "import matplotlib.pyplot as plt\n",
        "\n",
        "n_sample = 1000 #banyak sampel yang digunakan\n",
        "\n",
        "#pemilihan titik secara acak\n",
        "x = np.random.uniform(low=0.0, high=2.0, size=(n_sample))\n",
        "y = np.random.uniform(low=0.0, high=2.0, size=(n_sample))\n",
        "\n",
        "# persamaan lingkaran dengan titik pusat di (1,1) dan r=1\n",
        "def circ(x, y):\n",
        "  return ((x-1)**2+(y-1)**2)\n",
        "\n",
        "count = 0       #nilai titik yang berada di dalam lingkaran\n",
        "square_area = 4 #luas persegi, yaitu 2x2 satuan\n",
        "area_value = [] #nilai luas lingkaran\n",
        "for i in range(1, n_sample+1):\n",
        "  k = circ(x[i-1],y[i-1])\n",
        "  if k<=1**2: #nilai k<=1 artinya titik ada di dalam lingkaran\n",
        "    count += 1\n",
        "    area = count/i * square_area\n",
        "    area_value.append(area)\n",
        "  else:       #nilai k>1 artinya titik ada di luar lingkaran\n",
        "    count += 0\n",
        "    area = count/i * square_area\n",
        "    area_value.append(area)\n",
        "\n",
        "circ_area_numerical = count/n_sample * square_area #nilai pi numerik\n",
        "circ_area_analytical = np.pi * 1**2                #nilai pi analitik\n",
        "\n",
        "#visualisasi\n",
        "fig = plt.figure(figsize=(8,4))\n",
        "\n",
        "#grafik sebaran titik pada lingkaran\n",
        "circle = plt.Circle((1, 1), 1, lw=3, fill=False)\n",
        "ax1 = fig.add_subplot(121)\n",
        "ax1.add_patch(circle)\n",
        "ax1.scatter(x,y,s=3,color=\"red\")\n",
        "\n",
        "#grafik konvergensi nilai pi\n",
        "ax2 = fig.add_subplot(122)\n",
        "ax2.plot(range(n_sample), area_value)\n",
        "# plt.show()"
      ]
    },
    {
      "cell_type": "code",
      "source": [
        "from matplotlib import animation\n",
        "from IPython.display import HTML\n",
        "\n",
        "fig = plt.figure(figsize=(12,5))\n",
        "circle = plt.Circle((1, 1), 1, lw=3, fill=False)\n",
        "ax1 = plt.subplot(1,2,1)\n",
        "ax1.add_patch(circle)\n",
        "ax1.set_xlim((0, 2))\n",
        "ax1.set_ylim((0, 2))\n",
        "\n",
        "ax2 = plt.subplot(122)\n",
        "ax2.set_ylim((2, 4))\n",
        "ax2.set_xlabel(\"Jumlah sampel\")\n",
        "\n",
        "# create objects that will change in the animation. These are\n",
        "# initially empty, and will be given new values for each frame\n",
        "# in the animation.\n",
        "txt_title1 = ax1.set_title('')\n",
        "txt_title2 = ax2.set_title('')\n",
        "scatter1 = ax1.scatter([], [], color='red')\n",
        "line2, = ax2.plot([], [], 'b', lw=2)\n",
        "\n",
        "# animation function. This is called sequentially\n",
        "def drawframe(n):\n",
        "    x1 = x[0:n]\n",
        "    y1 = y[0:n]\n",
        "    x2 = range(n)\n",
        "    y2 = area_value[:n]\n",
        "    rerr = abs(area_value[n]-3.1415)/3.1415 * 100\n",
        "    scatter1.set_offsets(np.vstack((x1, y1)).T)\n",
        "    line2.set_data(x2, y2)\n",
        "    ax2.set_xlim((1, n))\n",
        "    txt_title1.set_text('Jumlah sampel = {0:4d}'.format(n))\n",
        "    txt_title2.set_text(r'Estimasi $\\pi$ = {0:.4f}, Error = {0:.4f} %'.format(area_value[n],rerr))\n",
        "    return (scatter1,line2)\n",
        "\n",
        "anim = animation.FuncAnimation(fig, drawframe, frames=1000, interval=50, blit=True)\n",
        "HTML(anim.to_html5_video())"
      ],
      "metadata": {
        "colab": {
          "base_uri": "https://localhost:8080/"
        },
        "id": "Q42qX5ZC0zqx",
        "outputId": "692cc62e-dac7-4c4e-bf13-d7efb59a2325"
      },
      "execution_count": null,
      "outputs": [
        {
          "output_type": "stream",
          "name": "stderr",
          "text": [
            "<ipython-input-14-1ff1910e4f33>:32: UserWarning: Attempting to set identical low and high xlims makes transformation singular; automatically expanding.\n",
            "  ax2.set_xlim((1, n))\n"
          ]
        }
      ]
    }
  ]
}