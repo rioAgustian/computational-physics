{
  "nbformat": 4,
  "nbformat_minor": 0,
  "metadata": {
    "colab": {
      "provenance": [],
      "authorship_tag": "ABX9TyPU0eamIt5cBiqClYLZP8n5"
    },
    "kernelspec": {
      "name": "python3",
      "display_name": "Python 3"
    },
    "language_info": {
      "name": "python"
    }
  },
  "cells": [
    {
      "cell_type": "markdown",
      "source": [
        "#**Linear Congruential Generator (LCG)**\n",
        "\n",
        "##**Rio Agustian Gilang Fernando**\n",
        "\n",
        "###**Fisika, FMIPA Universitas Negeri Semarang**"
      ],
      "metadata": {
        "id": "Fvb35_6VrUZC"
      }
    },
    {
      "cell_type": "code",
      "execution_count": 4,
      "metadata": {
        "colab": {
          "base_uri": "https://localhost:8080/"
        },
        "id": "Om58Pzv7rQQM",
        "outputId": "08e0aaa3-32c2-4da7-b331-b0509432b98d"
      },
      "outputs": [
        {
          "output_type": "execute_result",
          "data": {
            "text/plain": [
              "[0.7474168132745739,\n",
              " 0.8343807057637631,\n",
              " 0.4365217715671853,\n",
              " 0.6214147296833874,\n",
              " 0.11736178869258695,\n",
              " 0.49958255630898407,\n",
              " 0.48402388509550315,\n",
              " 0.9894368001210675,\n",
              " 0.4642996347808743,\n",
              " 0.4839617621544571]"
            ]
          },
          "metadata": {},
          "execution_count": 4
        }
      ],
      "source": [
        "# Kode ini merupakan implementasi dari algoritma random number generator\n",
        "# jenis linear congruential generator\n",
        "def LCG(x, n):  # x = initial seed, n = n data\n",
        "  a = 16807     # multiplier\n",
        "  c = 0         # additive constant\n",
        "  m = 2**31 - 1 # modulus\n",
        "  x0 = x\n",
        "  data = []\n",
        "  for i in range(n):\n",
        "    x  = (a*x0 + c) % m\n",
        "    x0 = x\n",
        "    un = x/m\n",
        "    data.append(x/m)\n",
        "  return (data)\n",
        "\n",
        "LCG(987654321, 10)"
      ]
    }
  ]
}