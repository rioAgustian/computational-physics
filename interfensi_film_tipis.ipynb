{
  "nbformat": 4,
  "nbformat_minor": 0,
  "metadata": {
    "colab": {
      "provenance": [],
      "authorship_tag": "ABX9TyMdOOmxBScFTv6l/o+1RqHI",
      "include_colab_link": true
    },
    "kernelspec": {
      "name": "python3",
      "display_name": "Python 3"
    },
    "language_info": {
      "name": "python"
    }
  },
  "cells": [
    {
      "cell_type": "markdown",
      "metadata": {
        "id": "view-in-github",
        "colab_type": "text"
      },
      "source": [
        "<a href=\"https://colab.research.google.com/github/rioAgustian/computational_physics/blob/main/interfensi_film_tipis.ipynb\" target=\"_parent\"><img src=\"https://colab.research.google.com/assets/colab-badge.svg\" alt=\"Open In Colab\"/></a>"
      ]
    },
    {
      "cell_type": "markdown",
      "source": [
        "# **Interfensi Film Tipis**\n",
        "\n",
        "**Rio Agustian Gilang Fernando, Fisika**\n",
        "\n",
        "**Fakultas Matematika dan Ilmu Pengetahuan Alam**\n",
        "\n",
        "**Universitas Negeri Semarang**"
      ],
      "metadata": {
        "id": "nl9OSxv5oElN"
      }
    },
    {
      "cell_type": "code",
      "execution_count": 5,
      "metadata": {
        "colab": {
          "base_uri": "https://localhost:8080/"
        },
        "id": "gs359KTuliXD",
        "outputId": "7f1c6d6c-7acd-47ea-8eff-e091a0aea5a4"
      },
      "outputs": [
        {
          "output_type": "stream",
          "name": "stdout",
          "text": [
            "Tebal selaput (mm): 0.001\n",
            "Indeks bias selaput: 1.33\n",
            "Sudut datang sinar (derajat): 60\n",
            "Mulai dari suku berapa?: 1\n",
            "Satu suku setelah suku terakhir: 10\n",
            "\n",
            "Untuk k =  1 ,  4037.6231 nm  = bukan merupakan sinar tampak\n",
            "\n",
            "Untuk k =  2 ,  1345.8744 nm  = bukan merupakan sinar tampak\n",
            "\n",
            "Untuk k =  3 ,  807.5246 nm  = bukan merupakan sinar tampak\n",
            "\n",
            "Untuk k =  4 ,  576.8033 nm  = kuning\n",
            "\n",
            "Untuk k =  5 ,  448.6248 nm  = nila\n",
            "\n",
            "Untuk k =  6 ,  367.0566 nm  = bukan merupakan sinar tampak\n",
            "\n",
            "Untuk k =  7 ,  310.5864 nm  = bukan merupakan sinar tampak\n",
            "\n",
            "Untuk k =  8 ,  269.1749 nm  = bukan merupakan sinar tampak\n",
            "\n",
            "Untuk k =  9 ,  237.5072 nm  = bukan merupakan sinar tampak\n"
          ]
        }
      ],
      "source": [
        "import math\n",
        "\n",
        "'''\n",
        "Program ini digunakan untuk menentukan warna yang muncul pada interferensi\n",
        "film tipis dengan variabel:\n",
        "n = indeks bias selaput\n",
        "d = tebal selaput\n",
        "r = sudut datang sinar\n",
        "k0 = suku awal ke-n\n",
        "k1 = suku akhir ke-n\n",
        "'''\n",
        "\n",
        "d = float(input(\"Tebal selaput (mm): \"))\n",
        "n = float(input(\"Indeks bias selaput: \"))\n",
        "r = math.radians(float(input(\"Sudut datang sinar (derajat): \")))\n",
        "k0 = int(input(\"Mulai dari suku berapa?: \"))\n",
        "k1 = int(input(\"Satu suku setelah suku terakhir: \"))\n",
        "\n",
        "'''\n",
        "Menghitung sudut pantul dengan hukum Snellius\n",
        "'''\n",
        "a = math.sin(r)\n",
        "b = a/n\n",
        "c = math.asin(b)\n",
        "\n",
        "for i in range(k0, k1):\n",
        "  L = (2 * 2 * n * d * math.cos(c)) / (2 * i - 1) * 1e6\n",
        "  if L  >= 610 and L < 710:\n",
        "    warna = \" = merah\"\n",
        "  elif L  >= 590 and L < 610:\n",
        "    warna = \" = oranye\"\n",
        "  elif L  >= 570 and L <590:\n",
        "    warna = \" = kuning\"\n",
        "  elif L  >= 500 and L < 570:\n",
        "    warna = \" = hijau\"\n",
        "  elif L  >= 450 and L < 500:\n",
        "    warna = \" = biru\"\n",
        "  elif L  >= 425 and L < 450:\n",
        "    warna = \" = nila\"\n",
        "  elif L  >= 400 and L < 425:\n",
        "    warna = \" = ungu\"\n",
        "  else:\n",
        "    warna = \" = bukan merupakan sinar tampak\"\n",
        "  print(\"\\nUntuk k = \", i, \", \", round(L, 4) , \"nm\", warna)"
      ]
    }
  ]
}