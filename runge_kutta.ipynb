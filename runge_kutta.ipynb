{
  "nbformat": 4,
  "nbformat_minor": 0,
  "metadata": {
    "colab": {
      "provenance": [],
      "authorship_tag": "ABX9TyP8lCe9xUd85gYTmEkJh5+J",
      "include_colab_link": true
    },
    "kernelspec": {
      "name": "python3",
      "display_name": "Python 3"
    },
    "language_info": {
      "name": "python"
    }
  },
  "cells": [
    {
      "cell_type": "markdown",
      "metadata": {
        "id": "view-in-github",
        "colab_type": "text"
      },
      "source": [
        "<a href=\"https://colab.research.google.com/github/rioAgustian/Fisika-Komputasi/blob/main/runge_kutta.ipynb\" target=\"_parent\"><img src=\"https://colab.research.google.com/assets/colab-badge.svg\" alt=\"Open In Colab\"/></a>"
      ]
    },
    {
      "cell_type": "code",
      "execution_count": 34,
      "metadata": {
        "colab": {
          "base_uri": "https://localhost:8080/",
          "height": 279
        },
        "id": "aKjlUurJ48d7",
        "outputId": "14a4a168-13bc-4327-9508-2d40eb383dde"
      },
      "outputs": [
        {
          "output_type": "display_data",
          "data": {
            "text/plain": [
              "<Figure size 432x288 with 1 Axes>"
            ],
            "image/png": "[encoded data removed]"
          },
          "metadata": {
            "needs_background": "light"
          }
        }
      ],
      "source": [
        "import numpy as np\n",
        "import matplotlib.pyplot as plt\n",
        "\n",
        "def F1(t, x, v):\n",
        "  return v        # return dx/dt = v\n",
        "\n",
        "def F2(t, x, v):\n",
        "  k = 10          # spring constant\n",
        "  m = 1           # mass\n",
        "  b = 1           # damping factor\n",
        "  a = -(b*v + k/m * x)\n",
        "  return a        # return dv/dt = a\n",
        "\n",
        "# parameters and initial conditions\n",
        "h = 0.01\n",
        "t_max = 10\n",
        "t = 0.0\n",
        "x = 0.2\n",
        "v = 0.0\n",
        "\n",
        "# empty lists \n",
        "tt = []\n",
        "xx = []\n",
        "vv = []\n",
        "\n",
        "while t <= t_max:\n",
        "\n",
        "  # Runge-Kutta for determine dx\n",
        "  kx0 = h * F1(t, x, v)\n",
        "  kx1 = h * F1(t + h/2, x + kx0/2, v + kx0/2)\n",
        "  kx2 = h * F1(t + h/2, x + kx1/2, v + kx1/2)\n",
        "  kx3 = h * F1(t + h, x + kx2, v + kx2)\n",
        "  dx  = (kx0 + 2*kx1 + 2*kx2 + kx3)/6\n",
        "  \n",
        "  # Runge-Kutta for determine dv\n",
        "  kv0 = h * F2(t, x, v)\n",
        "  kv1 = h * F2(t + h/2, x + kx0/2, v + kx0/2)\n",
        "  kv2 = h * F2(t + h/2, x + kx1/2, v + kx1/2)\n",
        "  kv3 = h * F2(t + h, x + kx2, v + kx2)\n",
        "  dv  = (kv0 + 2*kv1 + 2*kv2 + kv3)/6\n",
        "\n",
        "  # update the x and the v\n",
        "  v = v + dv\n",
        "  x = x + dx\n",
        "  t = t + h\n",
        "  tt.append(t)\n",
        "  xx.append(x)\n",
        "  vv.append(v)\n",
        "\n",
        "plt.plot(tt, xx)\n",
        "plt.xlabel(\"Time (s)\")\n",
        "plt.ylabel(\"Displacement (m)\")\n",
        "plt.show()"
      ]
    }
  ]
}