{
  "nbformat": 4,
  "nbformat_minor": 0,
  "metadata": {
    "colab": {
      "name": "simulasi_difusi_panas.ipynb",
      "provenance": []
    },
    "kernelspec": {
      "name": "python3",
      "display_name": "Python 3"
    },
    "language_info": {
      "name": "python"
    }
  },
  "cells": [
    {
      "cell_type": "code",
      "source": [
        "import numpy as np\n",
        "import matplotlib.pyplot as plt\n",
        "import matplotlib.animation as animation\n",
        "from matplotlib.animation import FuncAnimation\n",
        "import seaborn as sns\n",
        "from IPython.display import HTML\n",
        "\n",
        "# parameter\n",
        "panjang = 2\n",
        "lebar = 2\n",
        "max_iter = 10\n",
        "a = 5\n",
        "dx = 0.01\n",
        "dt = (dx ** 2)/(4 * a)\n",
        "cons = (a * dt) / (dx ** 2)\n",
        "\n",
        "# ini nanti berguna untuk menentukan banyak kolom dan baris hasil\n",
        "P = int(round(panjang / dx, 1)) + 1\n",
        "L = int(round(lebar / dx, 1)) + 1\n",
        "\n",
        "# array yang nilainya nol\n",
        "T = np.zeros((max_iter, P, L))\n",
        "\n",
        "# suhu awal \n",
        "T0 = 0\n",
        "T.fill(T0)\n",
        "\n",
        "# suhu di batas-batas\n",
        "T_atas = 400\n",
        "T_kiri = 20\n",
        "T_bawah = 20\n",
        "T_kanan = 20\n",
        "T[:, (P-1), :] = T_atas\n",
        "T[:, :, (L-1)] = T_kanan\n",
        "T[:, 0, :] = T_bawah\n",
        "T[:, :, 0] = T_kiri\n",
        "\n",
        "# finite difference method\n",
        "def fdm(T):\n",
        "  for k in range(0, max_iter-1):\n",
        "    for i in range(1, P-1):\n",
        "      for j in range(1, L-1):\n",
        "        T[k + 1, i, j] = cons * (T[k][i+1][j] + T[k][i-1][j] + T[k][i][j+1] + T[k][i][j-1] - 4*T[k][i][j]) + T[k][i][j]\n",
        "  return T\n",
        "\n",
        "def plot(T_k, k):\n",
        "    plt.clf()\n",
        "    ax = sns.heatmap(T_k, yticklabels=False, xticklabels=False, cmap=\"jet\")\n",
        "    ax.invert_yaxis()\n",
        "    return plt\n",
        "\n",
        "z = fdm(T)\n",
        "\n",
        "def animate(k):\n",
        "    plot(z[k], k)\n",
        "\n",
        "anim = animation.FuncAnimation(plt.figure(), animate, interval=1, frames=max_iter)\n",
        "HTML(anim.to_html5_video())"
      ],
      "metadata": {
        "id": "LOrDH1BSiyr6",
        "colab": {
          "base_uri": "https://localhost:8080/",
          "height": 551
        },
        "outputId": "5f955c05-1bc8-4898-a9dd-ea9dde7fd1e7"
      },
      "execution_count": 12,
      "outputs": [
        {
          "output_type": "execute_result",
          "data": {
            "text/plain": [
              "<IPython.core.display.HTML object>"
            ],
            "text/html": [
              "<video width=\"432\" height=\"288\" controls autoplay loop>\n",
              "  <source type=\"video/mp4\" src=\"data:video/mp4;base64,AAAAHGZ0eXBNNFYgAAACAGlzb21pc28yYXZjMQAAAAhmcmVlAAAMT21kYXQAAAKuBgX//6rcRem9\n",
              "5tlIt5Ys2CDZI+7veDI2NCAtIGNvcmUgMTUyIHIyODU0IGU5YTU5MDMgLSBILjI2NC9NUEVHLTQg\n",
              "QVZDIGNvZGVjIC0gQ29weWxlZnQgMjAwMy0yMDE3IC0gaHR0cDovL3d3dy52aWRlb2xhbi5vcmcv\n",
              "eDI2NC5odG1sIC0gb3B0aW9uczogY2FiYWM9MSByZWY9MyBkZWJsb2NrPTE6MDowIGFuYWx5c2U9\n",
              "MHgzOjB4MTEzIG1lPWhleCBzdWJtZT03IHBzeT0xIHBzeV9yZD0xLjAwOjAuMDAgbWl4ZWRfcmVm\n",
              "PTEgbWVfcmFuZ2U9MTYgY2hyb21hX21lPTEgdHJlbGxpcz0xIDh4OGRjdD0xIGNxbT0wIGRlYWR6\n",
              "b25lPTIxLDExIGZhc3RfcHNraXA9MSBjaHJvbWFfcXBfb2Zmc2V0PS0yIHRocmVhZHM9MyBsb29r\n",
              "YWhlYWRfdGhyZWFkcz0xIHNsaWNlZF90aHJlYWRzPTAgbnI9MCBkZWNpbWF0ZT0xIGludGVybGFj\n",
              "ZWQ9MCBibHVyYXlfY29tcGF0PTAgY29uc3RyYWluZWRfaW50cmE9MCBiZnJhbWVzPTMgYl9weXJh\n",
              "bWlkPTIgYl9hZGFwdD0xIGJfYmlhcz0wIGRpcmVjdD0xIHdlaWdodGI9MSBvcGVuX2dvcD0wIHdl\n",
              "aWdodHA9MiBrZXlpbnQ9MjUwIGtleWludF9taW49MjUgc2NlbmVjdXQ9NDAgaW50cmFfcmVmcmVz\n",
              "aD0wIHJjX2xvb2thaGVhZD00MCByYz1jcmYgbWJ0cmVlPTEgY3JmPTIzLjAgcWNvbXA9MC42MCBx\n",
              "cG1pbj0wIHFwbWF4PTY5IHFwc3RlcD00IGlwX3JhdGlvPTEuNDAgYXE9MToxLjAwAIAAAAckZYiE\n",
              "ADP//vbsvgU1/Z/QlxEsxdpKcD4qpICAdzTAAAADAAB4HShe6DhKq9DAHGnwThv5gDkLAUORXrQU\n",
              "jMdgWx3B8vQUJTMrTlhIm0ybBDinbaSqC2xdx26E8+8VeiSHTSmycbNQu7fsWi2FPcUO4HC4R37Q\n",
              "VS+RafXSVk4+2e8YnJ2Bv8OMcb5PZvcmCfQOO9NDzUsQ/N65221Vec7njLGZHRWDTMc9c6HCu+TB\n",
              "EKhOeyATg/sVdUCe/zfeG2aQEYVhgsS+RsiMmwd/NSNTBAIjdOaBvO8Dg2BMc7QDw2GO634np0UY\n",
              "ivjjVDspRDoCTK7l4XuM9ihQqPAInE3G2Lz4uFnjfi1x3A9IOl2IZaBpgwgZh5GlIIDtB4GSe+4L\n",
              "dwcZuokv36Se4R5vjYX/N79P3L4Qtabw0AhjA0u9NTtcWgyE3DDIKPPGdub/IzWfS0AAAKkJLvCW\n",
              "GH1HVIPw5UXz5W6W623efYxdEWQm81q8/IsqeICrqpFT6mlhv707NcSuA8UDYshuEOYHEiJLs8jN\n",
              "7RtHSpO00IirFoK8ytp5OvAzZoqcHddtRnYYUVLC9mfaAKna6j1Xsvm9cqqxjElPwRhtDqJ075fg\n",
              "HWi++5bhg2pjfc2XjUqLNzzmL1khynZrNrYQhQdTgXHaHTNswrLooEvQtS47eYt8MQotu7iVPXwy\n",
              "e8oITXaLzNk5zg5RHRl5kynROzX6JgcgZYNAkjYEBZWhoXnNHPvX3PDvzp/bTEUQorMHQZIWFZ8l\n",
              "wAAUUzpDatpj9offCPCB4v5y8b1MIvXCPQokS/BSCoDAOhAVoUhjVA0C324ibp9oTAwN/hFL89Bh\n",
              "BZHyMKBqfjU69JXFUvQbTRaIai0/0YlUO3s0UqMKgRtMrm/o3K8gfUvFwqPldmcISYHRCZ1ADjPf\n",
              "a5JjO+JK6XYbz2L0qFnh5328fHCgmVW49kSlP/akdknPTt7t3s27u5D6oyr7NZ1CuuiOoEHXuh1k\n",
              "OE6EYvD8spmspegvu0TZyaiIP5uaWMWfyeQ27k6gOHp7AjDZUrVX38uCZRF4m/icvMuqjksLknKE\n",
              "Vu031HKk94rfhCh+u2qnCfU0ihELCt3q/Chur0fnP48gvwVP/Q6WeWYannM4XRgJOYNnvmMsZcMc\n",
              "vqS5u4oKoSAZS3ZcZH9iK5xED1NzgJtBJcHGgd20A5hMqnB11FAXSi+jwxZWVOLOK95iyC6YlTNR\n",
              "6Yo0nvPhNFGEBCo31H2dvsfg/Z4KcS3Uen/F7C2tiLQ3oOtjy+/mfy2dUYOqavphAD6BOtPQX8GE\n",
              "yA/fK8bJkD3TWnpNSUP472qnabs70xPRWhHl0ozHVZ8DzHMifQEmkVDP3FpvGAsxmTxVWRw/Ekai\n",
              "oK8uZDN4qcRwIzP4UptqIqg3SnK8Li4Rh9DdJuWK1Uv4xqfSxy5n3Z6e5ehVm7cJWeGHWYyPleY9\n",
              "CtAXg1b1NKgLWKXo4q70CKfIvSgLikb05d0OkxB+yLJhYp6SLEzPq5SaYrSu8n2KX6xNr+g81VLR\n",
              "rrTQNa4mURR30+S4+qmD3DLDLM5uxMhOo0e5WJMOvnEvZzU6ci1Jgdz/OSnsaIYWHfq0KpHPXJM8\n",
              "44fOpCMXnjEQIii4Ttx7UEJ7H+SS7xSPzomX5y5zNvfNiihJq692oAA99ryK7ufe1HV5U7GpggqW\n",
              "idQctYswD6XAikKX6KK5eVSgSnfCRQokmZcOfHOVaPnOJe4nJp5/I5K6H/c6sxHXOclFWQHGSqHm\n",
              "cJhA0l17JfTVTROXX7r77zRy6UKPtscNnOjEGL2z8oD9NhY9UogqPlAxuAAChdttjf0uwvWtStqB\n",
              "TmHxol0Zp2iaYaw7HVbRxT9+9VJRGOtyErNgiqHYW6dlZxzr7/drOBckJjvId1SwGJ0FrWk6fTr7\n",
              "bkQa0KricjlaZknMtfDKDowBnc3XSpNWHrZZ+OfvVbKKs8uKJ2WVLVzcMPeNQoSZa83kezLQQjxO\n",
              "GRVOS4NDtXHiTq2SCcUzpg0JtviOnNcLphdLymwxiD0k9RtqlVXEX8ngbb7eWLBDEUu35Nji61Yz\n",
              "NDpBUFlX2dNucKUEN+ySGfPATd7Nqp/ATg3WyZF/CsKmgaNWSTeOrfLUak9lcScMZn2pW0bjzKD5\n",
              "D6l8Epm3EOwr1rcIP6q73tlkH+tk7Ob2TMPmFCwRNmE5wqdnyOrylJ+6xENa0PQi9MLjXr7RoC1Y\n",
              "D8u/1VGVE/mNJlI/qGTD2mv0QaJYGUSBDaxqxn+oXFyjVJ2vTugbO3pHchTiVzzwaCB+y1neeFmy\n",
              "S3d8lRjn0nMI6Esqyff0glCx28gqut69VspayAhaMMxgJLKm8xtBe3O2sYxT2V2+VB9zZ19f/j9b\n",
              "vjDJ84eQqyFK8EemFQbJdqZUdavrMIKsdxDFlnlyWt0UrfOqijO7P1RK3ttIycAOTBkFS54xTjAD\n",
              "KwAAAO5BmiJsQv/+jLAHyqJ8AC6j1wl1jZrioKDvdg3smU6yhcEW+J/kjdwfaZnUnWEgptVh5Zma\n",
              "YiG53Zt1Y26gqRlfbkf2+YjulgS05dzzMKtfQlaM+/tLo4GUtwCfWKa7yM6StKZVwfWrHrRtYl+i\n",
              "mlBgXxwcTRqRrNIH8QWAzU3oYehlTxfBrj7EcXgz2lfHggUMvOfZIG3ITLyrYGOPHUW8t2DzoAmk\n",
              "TtIh5z14GgwpN7cvIp/CuRruhJMPqB7BMMt05SUINNI129KLD0Dd6JgMEZfoDGVf/awl7o63oOO9\n",
              "e9TMWtT4l9Zvzc9wFLAkAAAAHwGeQXkJ/wElimurQpQ7p7tiOgWtbwjXh9ftHN/1laEAAAAyQZpD\n",
              "PCGTKYQz//6eEAI90gZlYD2rN9a1QLMg0v8Fx61woxiG2CWpHVmwyl7h/5iwv2AAAABUQZplSeEP\n",
              "JlMFPC///oywB8ezPgATtTqcQP63Oncm+8UNMwASQ0bspVkVJKKIwT0pjvHXNwYG/wB8YiUN2tG2\n",
              "KOExxRPr91Y9hohmMi1hIO3AMgvRAAAADwGehGpCfwAAjSo6CYpzMwAAADtBmodJ4Q8mUwU8K//+\n",
              "OEAdXMgAAEudEX0Sejb8zK2mU/OvBGvFD39KsWhkCT4iK5zfF9RCG7WjLABbQQAAAA0BnqZqQn8A\n",
              "AJMLwbLhAAAAOEGaqEnhDyZTAhX//jhAHA4uAANBOZhorKGaHlfZOk2uBmyE5OpVPX1JmOXnJTHH\n",
              "taMsA1kykIGhAAAAJ0GayUnhDyZTAhP//fEAR8du8ADRM2lcGS84D6vCh6M0q7DOTnoCzgAAA55t\n",
              "b292AAAAbG12aGQAAAAAAAAAAAAAAAAAAAPoAAABLAABAAABAAAAAAAAAAAAAAAAAQAAAAAAAAAA\n",
              "AAAAAAAAAAEAAAAAAAAAAAAAAAAAAEAAAAAAAAAAAAAAAAAAAAAAAAAAAAAAAAAAAAAAAAACAAAC\n",
              "yHRyYWsAAABcdGtoZAAAAAMAAAAAAAAAAAAAAAEAAAAAAAABLAAAAAAAAAAAAAAAAAAAAAAAAQAA\n",
              "AAAAAAAAAAAAAAAAAAEAAAAAAAAAAAAAAAAAAEAAAAABsAAAASAAAAAAACRlZHRzAAAAHGVsc3QA\n",
              "AAAAAAAAAQAAASwAAAMAAAEAAAAAAkBtZGlhAAAAIG1kaGQAAAAAAAAAAAAAAAAAADIAAAAPAFXE\n",
              "AAAAAAAtaGRscgAAAAAAAAAAdmlkZQAAAAAAAAAAAAAAAFZpZGVvSGFuZGxlcgAAAAHrbWluZgAA\n",
              "ABR2bWhkAAAAAQAAAAAAAAAAAAAAJGRpbmYAAAAcZHJlZgAAAAAAAAABAAAADHVybCAAAAABAAAB\n",
              "q3N0YmwAAACzc3RzZAAAAAAAAAABAAAAo2F2YzEAAAAAAAAAAQAAAAAAAAAAAAAAAAAAAAABsAEg\n",
              "AEgAAABIAAAAAAAAAAEAAAAAAAAAAAAAAAAAAAAAAAAAAAAAAAAAAAAAAAAAAAAY//8AAAAxYXZj\n",
              "QwFkABX/4QAYZ2QAFazZQbCWhAAAAwAMAAADAyA8WLZYAQAGaOvjyyLAAAAAHHV1aWRraEDyXyRP\n",
              "xbo5pRvPAyPzAAAAAAAAABhzdHRzAAAAAAAAAAEAAAAKAAABgAAAABRzdHNzAAAAAAAAAAEAAAAB\n",
              "AAAAWGN0dHMAAAAAAAAACQAAAAEAAAMAAAAAAQAABIAAAAABAAABgAAAAAEAAAMAAAAAAQAABIAA\n",
              "AAABAAABgAAAAAEAAASAAAAAAQAAAYAAAAACAAADAAAAABxzdHNjAAAAAAAAAAEAAAABAAAACgAA\n",
              "AAEAAAA8c3RzegAAAAAAAAAAAAAACgAACdoAAADyAAAAIwAAADYAAABYAAAAEwAAAD8AAAARAAAA\n",
              "PAAAACsAAAAUc3RjbwAAAAAAAAABAAAALAAAAGJ1ZHRhAAAAWm1ldGEAAAAAAAAAIWhkbHIAAAAA\n",
              "AAAAAG1kaXJhcHBsAAAAAAAAAAAAAAAALWlsc3QAAAAlqXRvbwAAAB1kYXRhAAAAAQAAAABMYXZm\n",
              "NTcuODMuMTAw\n",
              "\">\n",
              "  Your browser does not support the video tag.\n",
              "</video>"
            ]
          },
          "metadata": {},
          "execution_count": 12
        },
        {
          "output_type": "display_data",
          "data": {
            "text/plain": [
              "<Figure size 432x288 with 2 Axes>"
            ],
            "image/png": "[encoded data removed]"
          },
          "metadata": {
            "needs_background": "light"
          }
        }
      ]
    },
    {
      "cell_type": "markdown",
      "source": [
        "Original code is here. I just changed few for my intention. \n",
        "\n",
        "Nervadof, G. 2020. Solving 2D Heat Equation Numerically using Python.\n",
        "https://levelup.gitconnected.com/solving-2d-heat-equation-numerically-using-python-3334004aa01a"
      ],
      "metadata": {
        "id": "w6ISu5iVCvLW"
      }
    }
  ]
}