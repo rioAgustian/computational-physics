{
  "nbformat": 4,
  "nbformat_minor": 0,
  "metadata": {
    "colab": {
      "provenance": [],
      "authorship_tag": "ABX9TyOjg15NoG8Di3cUtWVgv3or",
      "include_colab_link": true
    },
    "kernelspec": {
      "name": "python3",
      "display_name": "Python 3"
    },
    "language_info": {
      "name": "python"
    }
  },
  "cells": [
    {
      "cell_type": "markdown",
      "metadata": {
        "id": "view-in-github",
        "colab_type": "text"
      },
      "source": [
        "<a href=\"https://colab.research.google.com/github/rioAgustian/computational-physics/blob/main/UTS_pemkom_2023.ipynb\" target=\"_parent\"><img src=\"https://colab.research.google.com/assets/colab-badge.svg\" alt=\"Open In Colab\"/></a>"
      ]
    },
    {
      "cell_type": "markdown",
      "source": [
        "##**Versi Singkat**"
      ],
      "metadata": {
        "id": "Vn6C7bqY9m6E"
      }
    },
    {
      "cell_type": "code",
      "source": [
        "import numpy as np\n",
        "\n",
        "pi = np.pi\n",
        "L  = 1\n",
        "dx = 0.1\n",
        "m  = 20\n",
        "\n",
        "def fourier(x, m, L):\n",
        "  sn = 0\n",
        "  for i in range(m):\n",
        "    n  = 2*i + 1\n",
        "    un = np.cos(x*n*pi/L) / n**2\n",
        "    sn = sn + un\n",
        "  res = L/2 - (4*L*sn)/(pi**2)\n",
        "  return res \n",
        "\n",
        "x = np.arange(-2*L, 2*L, dx)\n",
        "y1 = fourier(x, 5, L)\n",
        "y2 = fourier(x, 15, L)\n",
        "y3 = fourier(x, 20, L)\n",
        "\n",
        "d = 3 # banyak angka digit di belakang koma\n",
        "print(\"x \\t f(x,n=5) \\t f(x,n=15) \\t f(x,n=20)\")\n",
        "for i in range(len(x1)):\n",
        "  print(round(x[i], d), \"\\t\",\n",
        "        round(y1[i], d), \"\\t\\t\",\n",
        "        round(y2[i], d), \"\\t\\t\",\n",
        "        round(y3[i], d))"
      ],
      "metadata": {
        "colab": {
          "base_uri": "https://localhost:8080/"
        },
        "id": "JzA-1z96nPgk",
        "outputId": "a52473b9-9ff4-44b0-de00-747829bcb649"
      },
      "execution_count": 64,
      "outputs": [
        {
          "output_type": "stream",
          "name": "stdout",
          "text": [
            "x \t f(x,n=5) \t f(x,n=15) \t f(x,n=20)\n",
            "-2.0 \t 0.02 \t\t 0.007 \t\t 0.005\n",
            "-1.9 \t 0.098 \t\t 0.1 \t\t 0.1\n",
            "-1.8 \t 0.201 \t\t 0.2 \t\t 0.2\n",
            "-1.7 \t 0.3 \t\t 0.3 \t\t 0.3\n",
            "-1.6 \t 0.4 \t\t 0.4 \t\t 0.4\n",
            "-1.5 \t 0.5 \t\t 0.5 \t\t 0.5\n",
            "-1.4 \t 0.6 \t\t 0.6 \t\t 0.6\n",
            "-1.3 \t 0.7 \t\t 0.7 \t\t 0.7\n",
            "-1.2 \t 0.799 \t\t 0.8 \t\t 0.8\n",
            "-1.1 \t 0.902 \t\t 0.9 \t\t 0.9\n",
            "-1.0 \t 0.98 \t\t 0.993 \t\t 0.995\n",
            "-0.9 \t 0.902 \t\t 0.9 \t\t 0.9\n",
            "-0.8 \t 0.799 \t\t 0.8 \t\t 0.8\n",
            "-0.7 \t 0.7 \t\t 0.7 \t\t 0.7\n",
            "-0.6 \t 0.6 \t\t 0.6 \t\t 0.6\n",
            "-0.5 \t 0.5 \t\t 0.5 \t\t 0.5\n",
            "-0.4 \t 0.4 \t\t 0.4 \t\t 0.4\n",
            "-0.3 \t 0.3 \t\t 0.3 \t\t 0.3\n",
            "-0.2 \t 0.201 \t\t 0.2 \t\t 0.2\n",
            "-0.1 \t 0.098 \t\t 0.1 \t\t 0.1\n",
            "0.0 \t 0.02 \t\t 0.007 \t\t 0.005\n",
            "0.1 \t 0.098 \t\t 0.1 \t\t 0.1\n",
            "0.2 \t 0.201 \t\t 0.2 \t\t 0.2\n",
            "0.3 \t 0.3 \t\t 0.3 \t\t 0.3\n",
            "0.4 \t 0.4 \t\t 0.4 \t\t 0.4\n",
            "0.5 \t 0.5 \t\t 0.5 \t\t 0.5\n",
            "0.6 \t 0.6 \t\t 0.6 \t\t 0.6\n",
            "0.7 \t 0.7 \t\t 0.7 \t\t 0.7\n",
            "0.8 \t 0.799 \t\t 0.8 \t\t 0.8\n",
            "0.9 \t 0.902 \t\t 0.9 \t\t 0.9\n",
            "1.0 \t 0.98 \t\t 0.993 \t\t 0.995\n",
            "1.1 \t 0.902 \t\t 0.9 \t\t 0.9\n",
            "1.2 \t 0.799 \t\t 0.8 \t\t 0.8\n",
            "1.3 \t 0.7 \t\t 0.7 \t\t 0.7\n",
            "1.4 \t 0.6 \t\t 0.6 \t\t 0.6\n",
            "1.5 \t 0.5 \t\t 0.5 \t\t 0.5\n",
            "1.6 \t 0.4 \t\t 0.4 \t\t 0.4\n",
            "1.7 \t 0.3 \t\t 0.3 \t\t 0.3\n",
            "1.8 \t 0.201 \t\t 0.2 \t\t 0.2\n",
            "1.9 \t 0.098 \t\t 0.1 \t\t 0.1\n"
          ]
        }
      ]
    },
    {
      "cell_type": "markdown",
      "source": [
        "##**Versi Panjang**"
      ],
      "metadata": {
        "id": "JDmjekk9-Bgz"
      }
    },
    {
      "cell_type": "code",
      "source": [
        "pi = np.pi\n",
        "\n",
        "def fourier(x_min, x_max, dx, m, L):\n",
        "  x = x_min\n",
        "  x_data = []\n",
        "  y_data = []\n",
        "  while x <= x_max:\n",
        "    sn = 0\n",
        "    for i in range(m):\n",
        "      n  = 2*i + 1\n",
        "      un = np.cos(x*n*pi/L) / n**2\n",
        "      sn = sn + un\n",
        "    y = L/2 - (4*L*sn)/(pi**2)\n",
        "    x = x + dx\n",
        "    x_data.append(x)\n",
        "    y_data.append(y)\n",
        "  return (x_data, y_data) \n",
        "\n",
        "L = 1\n",
        "dx = 0.1\n",
        "m1 = 5\n",
        "m2 = 15\n",
        "m3 = 20\n",
        "x_min = -2*L\n",
        "x_max = 2*L\n",
        "\n",
        "x1, y1 = fourier(x_min, x_max, dx, m1, L)\n",
        "x2, y2 = fourier(x_min, x_max, dx, m2, L)\n",
        "x3, y3 = fourier(x_min, x_max, dx, m3, L)\n",
        "\n",
        "d = 3 # banyak angka digit di belakang koma\n",
        "print(\"x \\t f(x,n=5) \\t f(x,n=15) \\t f(x,n=20)\")\n",
        "for i in range(len(x1)):\n",
        "  print(round(x1[i], d), \"\\t\",\n",
        "        round(y1[i], d), \"\\t\\t\",\n",
        "        round(y2[i], d), \"\\t\\t\",\n",
        "        round(y3[i], d))"
      ],
      "metadata": {
        "colab": {
          "base_uri": "https://localhost:8080/"
        },
        "outputId": "ed62d7d0-03cf-4cf8-db32-e5bacd2ec9ca",
        "id": "dLubKHQvyz7D"
      },
      "execution_count": 65,
      "outputs": [
        {
          "output_type": "stream",
          "name": "stdout",
          "text": [
            "x \t f(x,n=5) \t f(x,n=15) \t f(x,n=20)\n",
            "-1.9 \t 0.02 \t\t 0.007 \t\t 0.005\n",
            "-1.8 \t 0.098 \t\t 0.1 \t\t 0.1\n",
            "-1.7 \t 0.201 \t\t 0.2 \t\t 0.2\n",
            "-1.6 \t 0.3 \t\t 0.3 \t\t 0.3\n",
            "-1.5 \t 0.4 \t\t 0.4 \t\t 0.4\n",
            "-1.4 \t 0.5 \t\t 0.5 \t\t 0.5\n",
            "-1.3 \t 0.6 \t\t 0.6 \t\t 0.6\n",
            "-1.2 \t 0.7 \t\t 0.7 \t\t 0.7\n",
            "-1.1 \t 0.799 \t\t 0.8 \t\t 0.8\n",
            "-1.0 \t 0.902 \t\t 0.9 \t\t 0.9\n",
            "-0.9 \t 0.98 \t\t 0.993 \t\t 0.995\n",
            "-0.8 \t 0.902 \t\t 0.9 \t\t 0.9\n",
            "-0.7 \t 0.799 \t\t 0.8 \t\t 0.8\n",
            "-0.6 \t 0.7 \t\t 0.7 \t\t 0.7\n",
            "-0.5 \t 0.6 \t\t 0.6 \t\t 0.6\n",
            "-0.4 \t 0.5 \t\t 0.5 \t\t 0.5\n",
            "-0.3 \t 0.4 \t\t 0.4 \t\t 0.4\n",
            "-0.2 \t 0.3 \t\t 0.3 \t\t 0.3\n",
            "-0.1 \t 0.201 \t\t 0.2 \t\t 0.2\n",
            "0.0 \t 0.098 \t\t 0.1 \t\t 0.1\n",
            "0.1 \t 0.02 \t\t 0.007 \t\t 0.005\n",
            "0.2 \t 0.098 \t\t 0.1 \t\t 0.1\n",
            "0.3 \t 0.201 \t\t 0.2 \t\t 0.2\n",
            "0.4 \t 0.3 \t\t 0.3 \t\t 0.3\n",
            "0.5 \t 0.4 \t\t 0.4 \t\t 0.4\n",
            "0.6 \t 0.5 \t\t 0.5 \t\t 0.5\n",
            "0.7 \t 0.6 \t\t 0.6 \t\t 0.6\n",
            "0.8 \t 0.7 \t\t 0.7 \t\t 0.7\n",
            "0.9 \t 0.799 \t\t 0.8 \t\t 0.8\n",
            "1.0 \t 0.902 \t\t 0.9 \t\t 0.9\n",
            "1.1 \t 0.98 \t\t 0.993 \t\t 0.995\n",
            "1.2 \t 0.902 \t\t 0.9 \t\t 0.9\n",
            "1.3 \t 0.799 \t\t 0.8 \t\t 0.8\n",
            "1.4 \t 0.7 \t\t 0.7 \t\t 0.7\n",
            "1.5 \t 0.6 \t\t 0.6 \t\t 0.6\n",
            "1.6 \t 0.5 \t\t 0.5 \t\t 0.5\n",
            "1.7 \t 0.4 \t\t 0.4 \t\t 0.4\n",
            "1.8 \t 0.3 \t\t 0.3 \t\t 0.3\n",
            "1.9 \t 0.201 \t\t 0.2 \t\t 0.2\n",
            "2.0 \t 0.098 \t\t 0.1 \t\t 0.1\n"
          ]
        }
      ]
    }
  ]
}