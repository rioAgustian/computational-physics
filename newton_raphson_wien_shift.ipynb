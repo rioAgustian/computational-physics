{
  "nbformat": 4,
  "nbformat_minor": 0,
  "metadata": {
    "colab": {
      "provenance": [],
      "collapsed_sections": [],
      "authorship_tag": "ABX9TyPZLEm89jJO28lXZD7LFbYE"
    },
    "kernelspec": {
      "name": "python3",
      "display_name": "Python 3"
    },
    "language_info": {
      "name": "python"
    }
  },
  "cells": [
    {
      "cell_type": "markdown",
      "source": [
        "## **Modified Newton-Raphson Method for Solving Maximum Wavelength in Wien's Displacement Law**\n",
        "\n",
        "**Rio Agustian Gilang Fernando**\n",
        "\n",
        "**Universitas Negeri Semarang**"
      ],
      "metadata": {
        "id": "HDh3tgXS4Rtj"
      }
    },
    {
      "cell_type": "markdown",
      "source": [
        "### **Main Code**"
      ],
      "metadata": {
        "id": "zmKi-4YL5V-X"
      }
    },
    {
      "cell_type": "code",
      "source": [
        "import numpy as np  \n",
        "pi = np.pi \n",
        "\n",
        "def nr(T, x0=5e-7, eps=1e-9, h= 1e-9):\n",
        "  \"\"\"\n",
        "  This code will return the wave length that makes energy density function \n",
        "  reach its maximum value at given temperature, numerically (modified Newton-\n",
        "  Raphson) and analytically (Wien constant=2.989e-3).\n",
        "\n",
        "  Parameters\n",
        "  ----------\n",
        "  T   : temperature (Kelvin).\n",
        "  x   : initial guess (meter). Default x=5e-7.\n",
        "  eps : absolut error approximation. Default eps=1e-9. \n",
        "  h   : time step. Default h=1e-9.\n",
        "\n",
        "  Returns\n",
        "  -------\n",
        "  wave length : code returns wave length numerically (modified Newton-\n",
        "        Raphson) and analytically (Wien constant=2.989e-3).\n",
        "  \"\"\"\n",
        "  # energy density function\n",
        "  def f(L):\n",
        "    hp = 6.6261e-34                    # Planck constant\n",
        "    c  = 2.99e8                        # light speed in vacuum\n",
        "    k  = 1.38e-23                      # Boltzman constant\n",
        "    upper = (8 * pi * hp * c)\n",
        "    expon = (hp * c) / (L * k * T)\n",
        "    lower = (L**5*(np.exp(expon)-1))   # L = wave length\n",
        "    rsult = upper/lower\n",
        "    return rsult\n",
        "    \n",
        "  # newton raphson algorithm\n",
        "  error = 10  \n",
        "  x = x0                    \n",
        "  while error >= eps:\n",
        "    xr    = x\n",
        "    upper = (f(x + h) - f(x - h))\n",
        "    lower = (f(x + h) - 2*f(x) + f(x - h))\n",
        "    x     = x - h/2 * upper/lower\n",
        "    error = abs(xr - x)\n",
        "\n",
        "  # calculate analytically\n",
        "  x_ana = 2.989e-3 / T\n",
        "\n",
        "  return print(\"Temperature = \", T, \" Kelvin\\n\", \n",
        "               \"Initial guess = \", x0, \" meter\\n\\n\", \n",
        "               \"Maximum wave length:\\n\\n\", \n",
        "               \"Analytic       = \", x_ana, \" meter\\n\",\n",
        "               \"Newton Raphson = \", x, \" meter\\n\")"
      ],
      "metadata": {
        "id": "wPDzgFF5rQDA"
      },
      "execution_count": 116,
      "outputs": []
    },
    {
      "cell_type": "markdown",
      "source": [
        "### **Just Say Help**"
      ],
      "metadata": {
        "id": "6Y0xzgfQAXyO"
      }
    },
    {
      "cell_type": "code",
      "source": [
        "#type help(nr) to remember what this function is all about\n",
        "help(nr)"
      ],
      "metadata": {
        "colab": {
          "base_uri": "https://localhost:8080/"
        },
        "id": "CAUMfnOXActZ",
        "outputId": "3af073f3-e324-4af6-d620-1c5139b8ec5d"
      },
      "execution_count": 117,
      "outputs": [
        {
          "output_type": "stream",
          "name": "stdout",
          "text": [
            "Help on function nr in module __main__:\n",
            "\n",
            "nr(T, x0=5e-07, eps=1e-09, h=1e-09)\n",
            "    This code will return the wave length that makes energy density function \n",
            "    reach its maximum value at given temperature, numerically (modified Newton-\n",
            "    Raphson) and analytically (Wien constant=2.989e-3).\n",
            "    \n",
            "    Parameters\n",
            "    ----------\n",
            "    T   : temperature (Kelvin).\n",
            "    x   : initial guess (meter). Default x=5e-7.\n",
            "    eps : absolut error approximation. Default eps=1e-9. \n",
            "    h   : time step. Default h=1e-9.\n",
            "    \n",
            "    Returns\n",
            "    -------\n",
            "    wave length : code returns wave length numerically (modified Newton-\n",
            "          Raphson) and analytically (Wien constant=2.989e-3).\n",
            "\n"
          ]
        }
      ]
    },
    {
      "cell_type": "markdown",
      "source": [
        "### **Examples**"
      ],
      "metadata": {
        "id": "Ajt6g8S-5dK_"
      }
    },
    {
      "cell_type": "code",
      "source": [
        "nr(4000)"
      ],
      "metadata": {
        "colab": {
          "base_uri": "https://localhost:8080/"
        },
        "id": "EPhDB2iq5hSc",
        "outputId": "2676caf8-a789-49b4-e31d-3d35accbe1dd"
      },
      "execution_count": 118,
      "outputs": [
        {
          "output_type": "stream",
          "name": "stdout",
          "text": [
            "Temperature =  4000  Kelvin\n",
            " Initial guess =  5e-07  meter\n",
            "\n",
            " Maximum wave length:\n",
            "\n",
            " Analytic       =  7.4725e-07  meter\n",
            " Newton Raphson =  7.228699897564615e-07  meter\n",
            "\n"
          ]
        }
      ]
    },
    {
      "cell_type": "code",
      "source": [
        "nr(5000)"
      ],
      "metadata": {
        "colab": {
          "base_uri": "https://localhost:8080/"
        },
        "id": "QdqpIfpaADBP",
        "outputId": "eda505bd-2ba2-4de7-830c-0257b4169892"
      },
      "execution_count": 119,
      "outputs": [
        {
          "output_type": "stream",
          "name": "stdout",
          "text": [
            "Temperature =  5000  Kelvin\n",
            " Initial guess =  5e-07  meter\n",
            "\n",
            " Maximum wave length:\n",
            "\n",
            " Analytic       =  5.978e-07  meter\n",
            " Newton Raphson =  5.782969258650158e-07  meter\n",
            "\n"
          ]
        }
      ]
    },
    {
      "cell_type": "code",
      "source": [
        "nr(6000)"
      ],
      "metadata": {
        "colab": {
          "base_uri": "https://localhost:8080/"
        },
        "id": "hUxOydxvAGXa",
        "outputId": "b94df1af-0d45-46b0-b179-760b378cb7b0"
      },
      "execution_count": 120,
      "outputs": [
        {
          "output_type": "stream",
          "name": "stdout",
          "text": [
            "Temperature =  6000  Kelvin\n",
            " Initial guess =  5e-07  meter\n",
            "\n",
            " Maximum wave length:\n",
            "\n",
            " Analytic       =  4.981666666666666e-07  meter\n",
            " Newton Raphson =  4.819154759185154e-07  meter\n",
            "\n"
          ]
        }
      ]
    },
    {
      "cell_type": "code",
      "source": [
        "# watch out! Not every case you can use the default initial guess.\n",
        "# check this out case.\n",
        "\n",
        "nr(3500)"
      ],
      "metadata": {
        "colab": {
          "base_uri": "https://localhost:8080/"
        },
        "id": "UW1wFX9f7dG9",
        "outputId": "f65698b6-e5b3-48d5-c0d5-04b1cd918921"
      },
      "execution_count": 121,
      "outputs": [
        {
          "output_type": "stream",
          "name": "stdout",
          "text": [
            "Temperature =  3500  Kelvin\n",
            " Initial guess =  5e-07  meter\n",
            "\n",
            " Maximum wave length:\n",
            "\n",
            " Analytic       =  8.54e-07  meter\n",
            " Newton Raphson =  nan  meter\n",
            "\n"
          ]
        },
        {
          "output_type": "stream",
          "name": "stderr",
          "text": [
            "/usr/local/lib/python3.7/dist-packages/ipykernel_launcher.py:40: RuntimeWarning: divide by zero encountered in double_scalars\n",
            "/usr/local/lib/python3.7/dist-packages/ipykernel_launcher.py:29: RuntimeWarning: invalid value encountered in double_scalars\n"
          ]
        }
      ]
    },
    {
      "cell_type": "code",
      "source": [
        "# see? This gave us an error. It shortly means not good. You can choose specific\n",
        "# initial guess. If you ever study about Root Finding Method, you will know \n",
        "# that your initial guess can be very detrimental. The closer your guess compare\n",
        "# to the exact value, the better will the result.\n",
        "\n",
        "nr(3500, x0=8e-7)"
      ],
      "metadata": {
        "colab": {
          "base_uri": "https://localhost:8080/"
        },
        "id": "_ycxU38B80OK",
        "outputId": "874d83a2-c2d5-4511-eed5-811e8b98fc75"
      },
      "execution_count": 122,
      "outputs": [
        {
          "output_type": "stream",
          "name": "stdout",
          "text": [
            "Temperature =  3500  Kelvin\n",
            " Initial guess =  8e-07  meter\n",
            "\n",
            " Maximum wave length:\n",
            "\n",
            " Analytic       =  8.54e-07  meter\n",
            " Newton Raphson =  8.261392091486314e-07  meter\n",
            "\n"
          ]
        }
      ]
    },
    {
      "cell_type": "markdown",
      "source": [
        "### **Shorter Version**"
      ],
      "metadata": {
        "id": "5kaA1p3AAt5g"
      }
    },
    {
      "cell_type": "code",
      "source": [
        "# for this short version, just click run\n",
        "\n",
        "import numpy as np  \n",
        "pi = np.pi \n",
        "\n",
        "T = float(input(\"temperature (Kelvin)= \"))\n",
        "def f(L):                          # energy density function\n",
        "  hp = 6.6261e-34                  # Planck constant\n",
        "  c  = 2.99e8                      # light speed in vacuum\n",
        "  k  = 1.38e-23                    # Boltzman constant\n",
        "  upper = (8 * pi * hp * c)\n",
        "  expon = (hp * c) / (L * k * T)\n",
        "  lower = (L**5*(np.exp(expon)-1)) # L = wave length\n",
        "  rsult = upper/lower\n",
        "  return rsult\n",
        "  \n",
        "# newton raphson algorithm\n",
        "x = 5e-7\n",
        "error = 10  \n",
        "eps = 1e-9\n",
        "h = 1e-9\n",
        "\n",
        "while error >= eps:\n",
        "  xr    = x\n",
        "  upper = (f(x + h) - f(x - h))\n",
        "  lower = (f(x + h) - 2*f(x) + f(x - h))\n",
        "  x     = x - h/2 * upper/lower\n",
        "  error = abs(xr - x)\n",
        "\n",
        "print(\"Maximum wave length = \", x, \" meter\")"
      ],
      "metadata": {
        "colab": {
          "base_uri": "https://localhost:8080/"
        },
        "id": "rj-NoFi1AxKp",
        "outputId": "b43f8f53-b927-4134-a7d6-5b64b8f8c333"
      },
      "execution_count": 123,
      "outputs": [
        {
          "output_type": "stream",
          "name": "stdout",
          "text": [
            "temperature (Kelvin)= 4000\n",
            "Maximum wave length =  7.228699897564615e-07  meter\n"
          ]
        }
      ]
    },
    {
      "cell_type": "markdown",
      "source": [
        "### **Reference**\n",
        "\n",
        "Widagda, I. G. A. 2016. *Pembuktian Hukum Pergeseran Wien Secara Numerik dengan Metode Newton-Rapshon Termodifikasi*. Faculty of Mathematics and Natural Sciences, Universitas Udayana."
      ],
      "metadata": {
        "id": "f6nhtOAk6efa"
      }
    }
  ]
}