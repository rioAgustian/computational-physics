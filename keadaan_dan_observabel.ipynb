{
  "nbformat": 4,
  "nbformat_minor": 0,
  "metadata": {
    "colab": {
      "provenance": [],
      "authorship_tag": "ABX9TyNeIG/f6I6gg4GQ+LU16pNv",
      "include_colab_link": true
    },
    "kernelspec": {
      "name": "python3",
      "display_name": "Python 3"
    },
    "language_info": {
      "name": "python"
    }
  },
  "cells": [
    {
      "cell_type": "markdown",
      "metadata": {
        "id": "view-in-github",
        "colab_type": "text"
      },
      "source": [
        "<a href=\"https://colab.research.google.com/github/rioAgustian/Fisika-Komputasi/blob/main/keadaan_dan_observabel.ipynb\" target=\"_parent\"><img src=\"https://colab.research.google.com/assets/colab-badge.svg\" alt=\"Open In Colab\"/></a>"
      ]
    },
    {
      "cell_type": "code",
      "execution_count": 1,
      "metadata": {
        "colab": {
          "base_uri": "https://localhost:8080/"
        },
        "id": "xpVAhunTR6dL",
        "outputId": "6c1f9789-594a-48c1-dc9c-9d0190ecdb09"
      },
      "outputs": [
        {
          "output_type": "stream",
          "name": "stdout",
          "text": [
            "---Matriks A---\n",
            "Eigenvalue =  -1.4142135623730951\n",
            "Peluang    =  0.3333333333333334\n",
            "\n",
            "---Matriks B---\n",
            "Eigenvalue =  -1.0\n",
            "Peluang    =  0.16666666666666666\n",
            "\n",
            "---Pengukuran A dulu baru B---\n",
            "Peluang =  0.04166666666666664\n",
            "\n",
            "---Pengukuran B dulu baru A---\n",
            "Peluang =  0.08333333333333331\n"
          ]
        }
      ],
      "source": [
        "import numpy as np\n",
        "\n",
        "# keadaan\n",
        "phi = [-1, 2, 1]\n",
        "\n",
        "# observabel\n",
        "A = [[0, 1, 0],\n",
        "     [1, 0, 1],\n",
        "     [0, 1, 0]]\n",
        "B = [[1, 0, 0],\n",
        "     [0, 0, 0],\n",
        "     [0, 0, -1]]\n",
        "\n",
        "# nilai eigen ke-\n",
        "ia = 0    # matriks A\n",
        "ib = 2    # matriks B\n",
        "\n",
        "A = np.array(A)\n",
        "B = np.array(B)\n",
        "phi = np.array(phi)\n",
        "\n",
        "a = np.linalg.eig(A)\n",
        "b = np.linalg.eig(B)\n",
        "\n",
        "den   = phi@phi\n",
        "num_a = (a[1][ia] @ phi)**2\n",
        "Pa_1  = num_a / den\n",
        "print(\"---Matriks A---\")\n",
        "print(\"Eigenvalue = \", a[0][ia])\n",
        "print(\"Peluang    = \", Pa_1)\n",
        "\n",
        "num_b = (b[1][ib] @ phi)**2\n",
        "Pb_1  = num_b / den\n",
        "print(\"\\n---Matriks B---\")\n",
        "print(\"Eigenvalue = \", b[0][ib])\n",
        "print(\"Peluang    = \", Pb_1)\n",
        "\n",
        "# A diukur baru B\n",
        "psi_1 = b[1][ib] @ phi\n",
        "psi_1 = psi_1 * b[1][ib]\n",
        "den_1 = psi_1 @ psi_1\n",
        "num_1 = (a[1][ia] @ psi_1)**2\n",
        "Pa_2  = num_1 / den_1 \n",
        "Pab   = Pa_2 * Pb_1\n",
        "print(\"\\n---Pengukuran A dulu baru B---\")\n",
        "print(\"Peluang = \", Pab)\n",
        "\n",
        "# B diukur baru A\n",
        "psi_2 = a[1][ia] @ phi\n",
        "psi_2 = psi_2 * a[1][ia]\n",
        "den_2 = psi_2 @ psi_2\n",
        "num_2 = (b[1][ib] @ psi_2)**2\n",
        "Pb_2  = num_2 / den_2 \n",
        "Pba   = Pb_2 * Pa_1\n",
        "print(\"\\n---Pengukuran B dulu baru A---\")\n",
        "print(\"Peluang = \", Pba)"
      ]
    }
  ]
}