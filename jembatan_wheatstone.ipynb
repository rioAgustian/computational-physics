{
  "nbformat": 4,
  "nbformat_minor": 0,
  "metadata": {
    "colab": {
      "provenance": [],
      "authorship_tag": "ABX9TyOaSapOhJeeqeOkA3itUY7m"
    },
    "kernelspec": {
      "name": "python3",
      "display_name": "Python 3"
    },
    "language_info": {
      "name": "python"
    }
  },
  "cells": [
    {
      "cell_type": "markdown",
      "source": [
        "# **Men-generate Data Praktikum Jembatan Wheatstone**\n",
        "\n",
        "**Rio Agustian Gilang Fernando, Fisika**\n",
        "\n",
        "**FMIPA Universitas Negeri Semarang**"
      ],
      "metadata": {
        "id": "iVT9U6LtgPFd"
      }
    },
    {
      "cell_type": "markdown",
      "source": [
        "\\begin{align}\n",
        "r_x &= r_v \\frac{L1}{L2} \\\\\n",
        "\\frac{L2}{L1} &= \\frac{r_v}{r_x} \\\\\n",
        "\\end{align}\n",
        "\n",
        "Misal, L2/L1 = rv/rx = x\n",
        "\n",
        "Dan, L2 = 1 - L1\n",
        "\\begin{align}\n",
        "x &= \\frac{(1-L1)}{L1}\\\\\n",
        "xL1 &= 1-L1\\\\\n",
        "xL1 + L1 &= 1\\\\\n",
        "L1 (x + 1) &= 1\\\\\n",
        "L1 &= \\frac{1}{(x + 1)}\\\\\n",
        "\\end{align}\n"
      ],
      "metadata": {
        "id": "wUcvB-zUT-F4"
      }
    },
    {
      "cell_type": "code",
      "execution_count": 113,
      "metadata": {
        "colab": {
          "base_uri": "https://localhost:8080/",
          "height": 673
        },
        "id": "aLUzvI9mTPfG",
        "outputId": "9856d226-2a6e-42fa-9e9b-c29333121ed7"
      },
      "outputs": [
        {
          "output_type": "stream",
          "name": "stdout",
          "text": [
            "No \t Rv \t L1 \t L2 \t Rx\n",
            "1 \t 100 \t 84.0 \t 17.0 \t 498.2\n",
            "2 \t 200 \t 74.0 \t 27.0 \t 544.7\n",
            "3 \t 300 \t 58.0 \t 43.0 \t 410.9\n",
            "4 \t 400 \t 53.0 \t 48.0 \t 435.1\n",
            "5 \t 500 \t 47.0 \t 54.0 \t 438.2\n",
            "6 \t 600 \t 48.0 \t 53.0 \t 537.3\n",
            "\n",
            "Rx teori =  470 ohm \n",
            "Rx praktik =  477.4 ohm \n",
            "Standar deviasi =  52.12 ohm \n",
            "Hasil pengukuran = (477.4 ± 52.12) ohm \n",
            "Ketelitian =  10.92 % \n",
            "Ketepatan =  1.57 %\n"
          ]
        },
        {
          "output_type": "display_data",
          "data": {
            "text/plain": [
              "<Figure size 640x480 with 1 Axes>"
            ],
            "image/png": "[encoded data removed]"
          },
          "metadata": {}
        }
      ],
      "source": [
        "import numpy as np\n",
        "import matplotlib.pyplot as plt\n",
        "\n",
        "# Membuat function\n",
        "def L(rx, rv, std):\n",
        "  rx = rx + np.random.normal(loc=0, scale=std, size=rv.shape)\n",
        "  ratio = rv/rx\n",
        "  L1 = 1/(ratio + 1) \n",
        "  L2 = (1 - L1) \n",
        "  return [L1, L2, rx]\n",
        "\n",
        "# Menentukan nilai Rv, Rx, dan standar deviasi yang dikehendaki\n",
        "resistor_v = np.arange(100, 700, 100)\n",
        "resistor_x = 470\n",
        "stndar_dev = 50\n",
        "\n",
        "# Menggunakan function. Keluaran berupa L1, L2, dan Rx\n",
        "# Rx adalah Rx mula-mula ditambah derau\n",
        "L1, L2, Rx = L(resistor_x, resistor_v, stndar_dev) \n",
        "std = np.around(np.std(Rx), 2)\n",
        "avg = np.around(np.mean(Rx), 2)\n",
        "prc = np.around(std/avg*100, 2)\n",
        "acu = np.around(abs(resistor_x-avg)/resistor_x * 100, 2)\n",
        "\n",
        "# Mambuat tabulasi\n",
        "print(\"No \\t Rv \\t L1 \\t L2 \\t Rx\")\n",
        "for i in range(6):\n",
        "  print(i+1, \"\\t\",\n",
        "        resistor_v[i], \"\\t\",\n",
        "        np.ceil(L1[i]*100), \"\\t\", \n",
        "        np.ceil(L2[i]*100), \"\\t\",\n",
        "        np.around(Rx[i], 1))\n",
        "\n",
        "print(\"\\nRx teori = \", resistor_x, \"ohm\",\n",
        "      \"\\nRx praktik = \", avg, \"ohm\",\n",
        "      \"\\nStandar deviasi = \", std, \"ohm\",\n",
        "      \"\\nHasil pengukuran = ({} ± {}) ohm\".format(avg, std),\n",
        "      \"\\nKetelitian = \", prc, \"%\",\n",
        "      \"\\nKetepatan = \", acu, \"%\")\n",
        "\n",
        "# Plot\n",
        "y = L2/L1\n",
        "plt.scatter(resistor_v, y, marker=\"s\")\n",
        "plt.grid()\n",
        "plt.show()"
      ]
    },
    {
      "cell_type": "code",
      "source": [
        "print(\"±\")"
      ],
      "metadata": {
        "colab": {
          "base_uri": "https://localhost:8080/"
        },
        "id": "nxHV82vijA4V",
        "outputId": "36d4c97f-2067-4e52-f5fc-27a6fc514f90"
      },
      "execution_count": 76,
      "outputs": [
        {
          "output_type": "stream",
          "name": "stdout",
          "text": [
            "±\n"
          ]
        }
      ]
    }
  ]
}